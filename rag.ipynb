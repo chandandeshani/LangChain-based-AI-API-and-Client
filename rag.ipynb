{
 "cells": [
  {
   "cell_type": "code",
   "execution_count": 7,
   "id": "853fd1e8-7127-4357-a640-da63560154aa",
   "metadata": {},
   "outputs": [],
   "source": [
    "from langchain_community.document_loaders import TextLoader\n",
    "\n",
    "import bs4\n",
    "\n",
    "import os\n",
    "from dotenv import load_dotenv\n",
    "from langchain_ollama import OllamaLLM\n",
    "llm = OllamaLLM(model=\"llama2\")\n",
    "\n",
    "load_dotenv()\n",
    "\n",
    "os.environ[\"LANGCHAIN_TRACING_V2\"]=\"true\"\n",
    "os.environ[\"LANGCHAIN_API_KEY\"]=\"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\"\n"
   ]
  },
  {
   "cell_type": "code",
   "execution_count": 5,
   "id": "db9de810-ec88-4a69-aa2f-4e81862d11d4",
   "metadata": {},
   "outputs": [
    {
     "data": {
      "text/plain": [
       "[Document(metadata={'source': 'speech.txt'}, page_content='India is a self-governing country since 15th of August 1947. India got independence from the British rule on 15th of August in 1947 which we celebrate as Independence Day, However, on 26th of January since 1950 we celebrate as Republic Day. The Constitution of India came into force on 26th of January in 1950, so we celebrate this day as the Republic Day every year. This year in 2016, we are celebrating 75th republic day of India.\\n\\nRepublic means the supreme power of the people living in the country and only public has rights to elect their representatives as political leader to lead the country in right direction. So, India is a Republic country where public elects its leaders as a president, prime minister, etc. Our Great Indian freedom fighters have struggled a lot to the “Purna Swaraj” in India. They did so that their future generations may live without struggle and led country ahead.\\n\\nThe name of our great Indian leaders and freedom fighters are Mahatma Gandhi, Bhagat Singh, Chandra Shekher Ajad, Lala Lajpath Rai, Sardar Ballabh Bhai Patel, Lal bahadur Shastri, etc. They fought continuously against the British rule to make India a free country. We can never forget their sacrifices towards our country. We should remember them on such great occasions and salute them. It has become possible just because of them that we can think from our own mind and live freely in our nation without anyone’s force.\\n\\nOur first Indian President was Dr. Rajendra Prasad who said that, “We find the whole of this vast land brought together under the jurisdiction of one constitution and one union which takes over responsibility for the welfare of more than 320 million men and women inhabit it”.\\n\\nHow shame to say that still we are fighting with crime, corruption and violence (in the form of terrorist, rape, theft, riots, strikes, etc) in our country. Again, there is a need to get together to save our country from such slavery as it is pulling our nation back from going to its main stream of development and progress. We should be aware of our social issues like Poverty, unemployment, illiteracy, global warming, inequality, etc in order to solve them to go ahead.\\n\\nDr. Abdul Kalam has said that “If a country is to be corruption free and become a nation of beautiful minds, I strongly feel there are three key societal members who can make a difference. They are the Father, the Mother and the Teacher”. As a citizen of the country we should think seriously about it and do all possible efforts to lead our nation.\\n\\nThanks, Jai Hind\\n\\n\\n')]"
      ]
     },
     "execution_count": 5,
     "metadata": {},
     "output_type": "execute_result"
    }
   ],
   "source": [
    "## Data ingestion\n",
    "\n",
    "loader=TextLoader(\"speech.txt\")\n",
    "text_documents=loader.load()\n",
    "text_documents"
   ]
  },
  {
   "cell_type": "code",
   "execution_count": null,
   "id": "484458a8-e896-4395-84f2-f4c6ccbea1c5",
   "metadata": {},
   "outputs": [],
   "source": []
  },
  {
   "cell_type": "code",
   "execution_count": null,
   "id": "c69452d7-f8c2-4ffe-ab96-3962cafe0ddd",
   "metadata": {},
   "outputs": [],
   "source": [
    "## web based loader\n",
    "\n",
    "loader=WebBasedLoader(web_paths=\"https://en.wikipedia.org/wiki/Pterosaur\",\n",
    "                     bs_kwargs=dict(parse_only=bs4.SoupStrainer(\n",
    "                         class_=(\"vector-page-toolbar\",\"vector-colums-end\",\"mw-body-content\",\"mw\")\n",
    "                     )))"
   ]
  },
  {
   "cell_type": "code",
   "execution_count": null,
   "id": "952808af-8314-4489-9682-6bb661c52a44",
   "metadata": {},
   "outputs": [],
   "source": []
  }
 ],
 "metadata": {
  "kernelspec": {
   "display_name": "Python 3 (ipykernel)",
   "language": "python",
   "name": "python3"
  },
  "language_info": {
   "codemirror_mode": {
    "name": "ipython",
    "version": 3
   },
   "file_extension": ".py",
   "mimetype": "text/x-python",
   "name": "python",
   "nbconvert_exporter": "python",
   "pygments_lexer": "ipython3",
   "version": "3.10.12"
  }
 },
 "nbformat": 4,
 "nbformat_minor": 5
}
